{
  "cells": [
    {
      "cell_type": "code",
      "execution_count": 1,
      "metadata": {
        "deletable": false,
        "editable": false,
        "id": "BOwsuGQQY9OL",
        "tags": [
          "graded"
        ]
      },
      "outputs": [],
      "source": [
        "import numpy as np\n",
        "import matplotlib.pyplot as plt\n",
        "from tensorflow.keras.models import Sequential\n",
        "from tensorflow.keras.utils import to_categorical\n",
        "from tensorflow.keras.preprocessing.text import Tokenizer\n",
        "from tensorflow.keras.preprocessing.sequence import pad_sequences\n",
        "from tensorflow.keras.layers import Embedding, LSTM, Dense, Bidirectional, Conv1D, GlobalMaxPooling1D"
      ]
    },
    {
      "cell_type": "code",
      "execution_count": 2,
      "metadata": {
        "deletable": false,
        "editable": false,
        "id": "WZ4qOUzujMP6",
        "tags": [
          "graded"
        ],
        "colab": {
          "base_uri": "https://localhost:8080/"
        },
        "outputId": "49a826a0-cd80-450b-e853-37e1dddecce5"
      },
      "outputs": [
        {
          "output_type": "stream",
          "name": "stdout",
          "text": [
            "--2024-09-22 07:36:18--  https://raw.githubusercontent.com/karpathy/char-rnn/master/data/tinyshakespeare/input.txt\n",
            "Resolving raw.githubusercontent.com (raw.githubusercontent.com)... 185.199.108.133, 185.199.109.133, 185.199.110.133, ...\n",
            "Connecting to raw.githubusercontent.com (raw.githubusercontent.com)|185.199.108.133|:443... connected.\n",
            "HTTP request sent, awaiting response... 200 OK\n",
            "Length: 1115394 (1.1M) [text/plain]\n",
            "Saving to: ‘input.txt’\n",
            "\n",
            "\rinput.txt             0%[                    ]       0  --.-KB/s               \rinput.txt           100%[===================>]   1.06M  --.-KB/s    in 0.06s   \n",
            "\n",
            "2024-09-22 07:36:18 (19.1 MB/s) - ‘input.txt’ saved [1115394/1115394]\n",
            "\n"
          ]
        }
      ],
      "source": [
        "!wget https://raw.githubusercontent.com/karpathy/char-rnn/master/data/tinyshakespeare/input.txt"
      ]
    },
    {
      "cell_type": "code",
      "execution_count": 3,
      "metadata": {
        "deletable": false,
        "editable": false,
        "id": "Pfd-nYKij5yY",
        "tags": [
          "graded"
        ],
        "colab": {
          "base_uri": "https://localhost:8080/"
        },
        "outputId": "252a0b96-23f1-45e6-9f68-ad81f2f3b831"
      },
      "outputs": [
        {
          "output_type": "stream",
          "name": "stdout",
          "text": [
            "There are 40001 lines of sonnets\n",
            "\n",
            "The first 5 lines look like this:\n",
            "\n",
            "first citizen:\n",
            "before we proceed any further, hear me speak.\n",
            "\n",
            "all:\n",
            "speak, speak.\n"
          ]
        }
      ],
      "source": [
        "with open('/content/input.txt') as f:\n",
        "    data = f.read()\n",
        "\n",
        "corpus = data.lower().split(\"\\n\")\n",
        "\n",
        "print(f\"There are {len(corpus)} lines of sonnets\\n\")\n",
        "print(f\"The first 5 lines look like this:\\n\")\n",
        "\n",
        "for i in range(5):\n",
        "  print(corpus[i])"
      ]
    },
    {
      "cell_type": "code",
      "execution_count": 4,
      "metadata": {
        "deletable": false,
        "editable": false,
        "id": "AAhM_qAZk0o5",
        "tags": [
          "graded"
        ]
      },
      "outputs": [],
      "source": [
        "tokenizer = Tokenizer()\n",
        "tokenizer.fit_on_texts(corpus)\n",
        "total_words = len(tokenizer.word_index) + 1"
      ]
    },
    {
      "cell_type": "code",
      "execution_count": 5,
      "metadata": {
        "deletable": false,
        "editable": false,
        "id": "tqhPxdeXlfjh",
        "tags": [
          "graded"
        ],
        "colab": {
          "base_uri": "https://localhost:8080/",
          "height": 36
        },
        "outputId": "a53d5a1e-c6da-4833-99d4-a393a1912975"
      },
      "outputs": [
        {
          "output_type": "execute_result",
          "data": {
            "text/plain": [
              "'first citizen:'"
            ],
            "application/vnd.google.colaboratory.intrinsic+json": {
              "type": "string"
            }
          },
          "metadata": {},
          "execution_count": 5
        }
      ],
      "source": [
        "corpus[0]"
      ]
    },
    {
      "cell_type": "code",
      "execution_count": 6,
      "metadata": {
        "deletable": false,
        "editable": false,
        "id": "EMSEhmbzNZCE",
        "tags": [
          "graded"
        ],
        "colab": {
          "base_uri": "https://localhost:8080/"
        },
        "outputId": "f554c2a4-6735-487a-847b-d68a68cf43a3"
      },
      "outputs": [
        {
          "output_type": "execute_result",
          "data": {
            "text/plain": [
              "[[], [4], [6237], [], [], [], [4163], [4], [], [4], [], [], [], []]"
            ]
          },
          "metadata": {},
          "execution_count": 6
        }
      ],
      "source": [
        "tokenizer.texts_to_sequences(corpus[0])"
      ]
    },
    {
      "cell_type": "code",
      "execution_count": 7,
      "metadata": {
        "deletable": false,
        "editable": false,
        "id": "Qmgo-vXhk4nd",
        "tags": [
          "graded"
        ],
        "colab": {
          "base_uri": "https://localhost:8080/"
        },
        "outputId": "165cf279-3dd4-446c-f694-89ba55352dac"
      },
      "outputs": [
        {
          "output_type": "execute_result",
          "data": {
            "text/plain": [
              "[[88, 269]]"
            ]
          },
          "metadata": {},
          "execution_count": 7
        }
      ],
      "source": [
        "tokenizer.texts_to_sequences([corpus[0]])"
      ]
    },
    {
      "cell_type": "code",
      "execution_count": 8,
      "metadata": {
        "deletable": false,
        "editable": false,
        "id": "kpTy8WmIQ57P",
        "tags": [
          "graded"
        ],
        "colab": {
          "base_uri": "https://localhost:8080/"
        },
        "outputId": "5216e8d5-452a-4ad8-9a04-98cb7850444b"
      },
      "outputs": [
        {
          "output_type": "execute_result",
          "data": {
            "text/plain": [
              "[88, 269]"
            ]
          },
          "metadata": {},
          "execution_count": 8
        }
      ],
      "source": [
        "tokenizer.texts_to_sequences([corpus[0]])[0]"
      ]
    },
    {
      "cell_type": "code",
      "execution_count": 9,
      "metadata": {
        "deletable": false,
        "id": "iy4baJMDl6kj",
        "tags": [
          "graded"
        ]
      },
      "outputs": [],
      "source": [
        "def n_gram_seqs(corpus, tokenizer):\n",
        "    input_sequences = []\n",
        "    for line in corpus:\n",
        "      token_list = tokenizer.texts_to_sequences([line])[0]\n",
        "      for i in range(1,len(token_list)):\n",
        "        n_gram = token_list[:i+1]\n",
        "        input_sequences.append(n_gram)\n",
        "\n",
        "    return input_sequences"
      ]
    },
    {
      "cell_type": "code",
      "execution_count": 10,
      "metadata": {
        "deletable": false,
        "editable": false,
        "id": "DlKqW2pfM7G3",
        "tags": [
          "graded"
        ],
        "colab": {
          "base_uri": "https://localhost:8080/"
        },
        "outputId": "65d76c97-1d48-437a-f539-8d1cf44133cf"
      },
      "outputs": [
        {
          "output_type": "stream",
          "name": "stdout",
          "text": [
            "n_gram sequences for first example look like this:\n",
            "\n"
          ]
        },
        {
          "output_type": "execute_result",
          "data": {
            "text/plain": [
              "[[88, 269]]"
            ]
          },
          "metadata": {},
          "execution_count": 10
        }
      ],
      "source": [
        "first_example_sequence = n_gram_seqs([corpus[0]], tokenizer)\n",
        "\n",
        "print(\"n_gram sequences for first example look like this:\\n\")\n",
        "first_example_sequence"
      ]
    },
    {
      "cell_type": "code",
      "execution_count": 11,
      "metadata": {
        "deletable": false,
        "editable": false,
        "id": "wtPpCcBjNc4c",
        "tags": [
          "graded"
        ],
        "colab": {
          "base_uri": "https://localhost:8080/"
        },
        "outputId": "e555cf5c-e8d8-4ceb-d80f-c0c43e442e84"
      },
      "outputs": [
        {
          "output_type": "stream",
          "name": "stdout",
          "text": [
            "n_gram sequences for next 3 examples look like this:\n",
            "\n"
          ]
        },
        {
          "output_type": "execute_result",
          "data": {
            "text/plain": [
              "[[139, 35],\n",
              " [139, 35, 969],\n",
              " [139, 35, 969, 143],\n",
              " [139, 35, 969, 143, 668],\n",
              " [139, 35, 969, 143, 668, 127],\n",
              " [139, 35, 969, 143, 668, 127, 15],\n",
              " [139, 35, 969, 143, 668, 127, 15, 102]]"
            ]
          },
          "metadata": {},
          "execution_count": 11
        }
      ],
      "source": [
        "next_3_examples_sequence = n_gram_seqs(corpus[1:4], tokenizer)\n",
        "\n",
        "print(\"n_gram sequences for next 3 examples look like this:\\n\")\n",
        "next_3_examples_sequence"
      ]
    },
    {
      "cell_type": "code",
      "execution_count": 12,
      "metadata": {
        "deletable": false,
        "editable": false,
        "id": "laMwiRUpmuSd",
        "tags": [
          "graded"
        ],
        "colab": {
          "base_uri": "https://localhost:8080/"
        },
        "outputId": "e791b99b-62da-4e7b-823a-adeea33c92a6"
      },
      "outputs": [
        {
          "output_type": "stream",
          "name": "stdout",
          "text": [
            "n_grams of input_sequences have length: 171312\n",
            "maximum length of sequences is: 16\n"
          ]
        }
      ],
      "source": [
        "input_sequences = n_gram_seqs(corpus, tokenizer)\n",
        "\n",
        "max_sequence_len = max([len(x) for x in input_sequences])\n",
        "\n",
        "print(f\"n_grams of input_sequences have length: {len(input_sequences)}\")\n",
        "print(f\"maximum length of sequences is: {max_sequence_len}\")"
      ]
    },
    {
      "cell_type": "code",
      "execution_count": 13,
      "metadata": {
        "cellView": "code",
        "deletable": false,
        "id": "WW1-qAZaWOhC",
        "tags": [
          "graded"
        ]
      },
      "outputs": [],
      "source": [
        "def pad_seqs(input_sequences, maxlen):\n",
        "    padded_sequences = pad_sequences(input_sequences,padding='pre',maxlen=maxlen)\n",
        "    return padded_sequences"
      ]
    },
    {
      "cell_type": "code",
      "execution_count": 14,
      "metadata": {
        "deletable": false,
        "editable": false,
        "id": "IqVQ0pb3YHLr",
        "tags": [
          "graded"
        ],
        "colab": {
          "base_uri": "https://localhost:8080/"
        },
        "outputId": "c518322c-c1c3-4530-ad5b-1b1c3bf804b9"
      },
      "outputs": [
        {
          "output_type": "execute_result",
          "data": {
            "text/plain": [
              "array([[ 88, 269]], dtype=int32)"
            ]
          },
          "metadata": {},
          "execution_count": 14
        }
      ],
      "source": [
        "first_padded_seq = pad_seqs(first_example_sequence, max([len(x) for x in first_example_sequence]))\n",
        "first_padded_seq"
      ]
    },
    {
      "cell_type": "code",
      "execution_count": 15,
      "metadata": {
        "deletable": false,
        "editable": false,
        "id": "j56_UCOBYzZt",
        "tags": [
          "graded"
        ],
        "colab": {
          "base_uri": "https://localhost:8080/"
        },
        "outputId": "c804d0d9-04cd-422f-a2fa-6ae4ecd13ace"
      },
      "outputs": [
        {
          "output_type": "execute_result",
          "data": {
            "text/plain": [
              "array([[  0,   0,   0,   0,   0,   0, 139,  35],\n",
              "       [  0,   0,   0,   0,   0, 139,  35, 969],\n",
              "       [  0,   0,   0,   0, 139,  35, 969, 143],\n",
              "       [  0,   0,   0, 139,  35, 969, 143, 668],\n",
              "       [  0,   0, 139,  35, 969, 143, 668, 127],\n",
              "       [  0, 139,  35, 969, 143, 668, 127,  15],\n",
              "       [139,  35, 969, 143, 668, 127,  15, 102]], dtype=int32)"
            ]
          },
          "metadata": {},
          "execution_count": 15
        }
      ],
      "source": [
        "next_3_padded_seq = pad_seqs(next_3_examples_sequence, max([len(s) for s in next_3_examples_sequence]))\n",
        "next_3_padded_seq"
      ]
    },
    {
      "cell_type": "code",
      "execution_count": 16,
      "metadata": {
        "deletable": false,
        "editable": false,
        "id": "rgK-Q_micEYA",
        "tags": [
          "graded"
        ],
        "colab": {
          "base_uri": "https://localhost:8080/"
        },
        "outputId": "18a8fcc3-e77d-489d-9910-5a1cae3e4dfc"
      },
      "outputs": [
        {
          "output_type": "stream",
          "name": "stdout",
          "text": [
            "padded corpus has shape: (171312, 16)\n"
          ]
        }
      ],
      "source": [
        "input_sequences = pad_seqs(input_sequences, max_sequence_len)\n",
        "\n",
        "print(f\"padded corpus has shape: {input_sequences.shape}\")"
      ]
    },
    {
      "cell_type": "code",
      "execution_count": 17,
      "metadata": {
        "cellView": "code",
        "deletable": false,
        "id": "9WGGbYdnZdmJ",
        "tags": [
          "graded"
        ]
      },
      "outputs": [],
      "source": [
        "def features_and_labels(input_sequences, total_wrds):\n",
        "    features = input_sequences[:,:-1]\n",
        "    labels = input_sequences[:,-1]\n",
        "    one_hot_labels = to_categorical(labels,total_wrds)\n",
        "\n",
        "    return features, one_hot_labels"
      ]
    },
    {
      "cell_type": "code",
      "execution_count": 18,
      "metadata": {
        "deletable": false,
        "editable": false,
        "id": "23DolaBRaIAZ",
        "tags": [
          "graded"
        ],
        "colab": {
          "base_uri": "https://localhost:8080/"
        },
        "outputId": "04d9f5e6-653d-4921-bb2d-0f85092d0f92"
      },
      "outputs": [
        {
          "output_type": "stream",
          "name": "stdout",
          "text": [
            "labels have shape: (1, 12633)\n",
            "\n",
            "features look like this:\n",
            "\n"
          ]
        },
        {
          "output_type": "execute_result",
          "data": {
            "text/plain": [
              "array([[88]], dtype=int32)"
            ]
          },
          "metadata": {},
          "execution_count": 18
        }
      ],
      "source": [
        "first_features, first_labels = features_and_labels(first_padded_seq, total_words)\n",
        "\n",
        "print(f\"labels have shape: {first_labels.shape}\")\n",
        "print(\"\\nfeatures look like this:\\n\")\n",
        "first_features"
      ]
    },
    {
      "cell_type": "code",
      "execution_count": 19,
      "metadata": {
        "deletable": false,
        "editable": false,
        "id": "GRTuLEt3bRKa",
        "tags": [
          "graded"
        ],
        "colab": {
          "base_uri": "https://localhost:8080/"
        },
        "outputId": "af934b42-a458-4f09-80cf-f7c68e56d256"
      },
      "outputs": [
        {
          "output_type": "stream",
          "name": "stdout",
          "text": [
            "features have shape: (171312, 15)\n",
            "labels have shape: (171312, 12633)\n"
          ]
        }
      ],
      "source": [
        "features, labels = features_and_labels(input_sequences, total_words)\n",
        "\n",
        "print(f\"features have shape: {features.shape}\")\n",
        "print(f\"labels have shape: {labels.shape}\")"
      ]
    },
    {
      "cell_type": "code",
      "execution_count": 24,
      "metadata": {
        "cellView": "code",
        "deletable": false,
        "id": "XrE6kpJFfvRY",
        "tags": [
          "graded"
        ]
      },
      "outputs": [],
      "source": [
        "def create_model(total_words, max_sequence_len):\n",
        "    model = Sequential()\n",
        "\n",
        "    model.add(Embedding(total_words, 100, input_length=max_sequence_len-1))\n",
        "    model.add(Bidirectional(LSTM(100, return_sequences=True)))\n",
        "    model.add(Conv1D(100, 3, activation='relu'))\n",
        "    model.add(GlobalMaxPooling1D())\n",
        "    model.add(Dense(256, activation='relu'))\n",
        "    model.add(Dense(total_words, activation='softmax'))\n",
        "\n",
        "    model.compile(loss='categorical_crossentropy',\n",
        "                  optimizer='adam',\n",
        "                  metrics=['accuracy'])\n",
        "\n",
        "    return model"
      ]
    },
    {
      "cell_type": "code",
      "execution_count": 25,
      "metadata": {
        "id": "0IpX_Gu_gISk",
        "tags": [],
        "colab": {
          "base_uri": "https://localhost:8080/"
        },
        "outputId": "95c5e24f-790e-4983-8f58-bc7031389dcc"
      },
      "outputs": [
        {
          "output_type": "stream",
          "name": "stdout",
          "text": [
            "Model: \"sequential_3\"\n",
            "_________________________________________________________________\n",
            " Layer (type)                Output Shape              Param #   \n",
            "=================================================================\n",
            " embedding_3 (Embedding)     (None, 15, 100)           1263300   \n",
            "                                                                 \n",
            " bidirectional_3 (Bidirecti  (None, 15, 200)           160800    \n",
            " onal)                                                           \n",
            "                                                                 \n",
            " conv1d_3 (Conv1D)           (None, 13, 100)           60100     \n",
            "                                                                 \n",
            " global_max_pooling1d_3 (Gl  (None, 100)               0         \n",
            " obalMaxPooling1D)                                               \n",
            "                                                                 \n",
            " dense_6 (Dense)             (None, 256)               25856     \n",
            "                                                                 \n",
            " dense_7 (Dense)             (None, 12633)             3246681   \n",
            "                                                                 \n",
            "=================================================================\n",
            "Total params: 4756737 (18.15 MB)\n",
            "Trainable params: 4756737 (18.15 MB)\n",
            "Non-trainable params: 0 (0.00 Byte)\n",
            "_________________________________________________________________\n"
          ]
        }
      ],
      "source": [
        "model = create_model(total_words, max_sequence_len)\n",
        "model.summary()"
      ]
    },
    {
      "cell_type": "code",
      "source": [
        "history = model.fit(features, labels, epochs=100, steps_per_epoch = 500, verbose=1)"
      ],
      "metadata": {
        "colab": {
          "base_uri": "https://localhost:8080/"
        },
        "id": "Kj1UWjMAqvr5",
        "outputId": "e193799d-4db9-4865-d8c5-81d821811e91"
      },
      "execution_count": 26,
      "outputs": [
        {
          "output_type": "stream",
          "name": "stdout",
          "text": [
            "Epoch 1/100\n",
            "500/500 [==============================] - 44s 80ms/step - loss: 6.9348 - accuracy: 0.0350\n",
            "Epoch 2/100\n",
            "500/500 [==============================] - 39s 77ms/step - loss: 6.4036 - accuracy: 0.0549\n",
            "Epoch 3/100\n",
            "500/500 [==============================] - 38s 76ms/step - loss: 6.0854 - accuracy: 0.0771\n",
            "Epoch 4/100\n",
            "500/500 [==============================] - 38s 76ms/step - loss: 5.8473 - accuracy: 0.0901\n",
            "Epoch 5/100\n",
            "500/500 [==============================] - 38s 77ms/step - loss: 5.6609 - accuracy: 0.0991\n",
            "Epoch 6/100\n",
            "500/500 [==============================] - 38s 76ms/step - loss: 5.4934 - accuracy: 0.1061\n",
            "Epoch 7/100\n",
            "500/500 [==============================] - 38s 75ms/step - loss: 5.3364 - accuracy: 0.1129\n",
            "Epoch 8/100\n",
            "500/500 [==============================] - 38s 75ms/step - loss: 5.1758 - accuracy: 0.1193\n",
            "Epoch 9/100\n",
            "500/500 [==============================] - 38s 75ms/step - loss: 5.0052 - accuracy: 0.1261\n",
            "Epoch 10/100\n",
            "500/500 [==============================] - 37s 75ms/step - loss: 4.8234 - accuracy: 0.1339\n",
            "Epoch 11/100\n",
            "500/500 [==============================] - 38s 76ms/step - loss: 4.6313 - accuracy: 0.1440\n",
            "Epoch 12/100\n",
            "500/500 [==============================] - 38s 75ms/step - loss: 4.4320 - accuracy: 0.1579\n",
            "Epoch 13/100\n",
            "500/500 [==============================] - 38s 76ms/step - loss: 4.2365 - accuracy: 0.1764\n",
            "Epoch 14/100\n",
            "500/500 [==============================] - 38s 76ms/step - loss: 4.0522 - accuracy: 0.1992\n",
            "Epoch 15/100\n",
            "500/500 [==============================] - 38s 76ms/step - loss: 3.8825 - accuracy: 0.2205\n",
            "Epoch 16/100\n",
            "500/500 [==============================] - 38s 76ms/step - loss: 3.7306 - accuracy: 0.2413\n",
            "Epoch 17/100\n",
            "500/500 [==============================] - 38s 75ms/step - loss: 3.5969 - accuracy: 0.2606\n",
            "Epoch 18/100\n",
            "500/500 [==============================] - 38s 76ms/step - loss: 3.4725 - accuracy: 0.2778\n",
            "Epoch 19/100\n",
            "500/500 [==============================] - 38s 76ms/step - loss: 3.3596 - accuracy: 0.2972\n",
            "Epoch 20/100\n",
            "500/500 [==============================] - 38s 75ms/step - loss: 3.2592 - accuracy: 0.3130\n",
            "Epoch 21/100\n",
            "500/500 [==============================] - 38s 76ms/step - loss: 3.1665 - accuracy: 0.3289\n",
            "Epoch 22/100\n",
            "500/500 [==============================] - 38s 76ms/step - loss: 3.0794 - accuracy: 0.3426\n",
            "Epoch 23/100\n",
            "500/500 [==============================] - 37s 75ms/step - loss: 2.9985 - accuracy: 0.3566\n",
            "Epoch 24/100\n",
            "500/500 [==============================] - 38s 76ms/step - loss: 2.9246 - accuracy: 0.3698\n",
            "Epoch 25/100\n",
            "500/500 [==============================] - 38s 75ms/step - loss: 2.8583 - accuracy: 0.3812\n",
            "Epoch 26/100\n",
            "500/500 [==============================] - 38s 75ms/step - loss: 2.7903 - accuracy: 0.3942\n",
            "Epoch 27/100\n",
            "500/500 [==============================] - 37s 75ms/step - loss: 2.7283 - accuracy: 0.4033\n",
            "Epoch 28/100\n",
            "500/500 [==============================] - 38s 75ms/step - loss: 2.6703 - accuracy: 0.4151\n",
            "Epoch 29/100\n",
            "500/500 [==============================] - 38s 76ms/step - loss: 2.6160 - accuracy: 0.4252\n",
            "Epoch 30/100\n",
            "500/500 [==============================] - 38s 76ms/step - loss: 2.5649 - accuracy: 0.4343\n",
            "Epoch 31/100\n",
            "500/500 [==============================] - 38s 76ms/step - loss: 2.5155 - accuracy: 0.4444\n",
            "Epoch 32/100\n",
            "500/500 [==============================] - 37s 75ms/step - loss: 2.4675 - accuracy: 0.4529\n",
            "Epoch 33/100\n",
            "500/500 [==============================] - 38s 75ms/step - loss: 2.4207 - accuracy: 0.4623\n",
            "Epoch 34/100\n",
            "500/500 [==============================] - 38s 76ms/step - loss: 2.3784 - accuracy: 0.4702\n",
            "Epoch 35/100\n",
            "500/500 [==============================] - 37s 75ms/step - loss: 2.3427 - accuracy: 0.4767\n",
            "Epoch 36/100\n",
            "500/500 [==============================] - 38s 76ms/step - loss: 2.3001 - accuracy: 0.4860\n",
            "Epoch 37/100\n",
            "500/500 [==============================] - 38s 76ms/step - loss: 2.2633 - accuracy: 0.4933\n",
            "Epoch 38/100\n",
            "500/500 [==============================] - 38s 76ms/step - loss: 2.2256 - accuracy: 0.5007\n",
            "Epoch 39/100\n",
            "500/500 [==============================] - 38s 76ms/step - loss: 2.1902 - accuracy: 0.5062\n",
            "Epoch 40/100\n",
            "500/500 [==============================] - 37s 75ms/step - loss: 2.1564 - accuracy: 0.5140\n",
            "Epoch 41/100\n",
            "500/500 [==============================] - 38s 75ms/step - loss: 2.1231 - accuracy: 0.5198\n",
            "Epoch 42/100\n",
            "500/500 [==============================] - 37s 75ms/step - loss: 2.0909 - accuracy: 0.5266\n",
            "Epoch 43/100\n",
            "500/500 [==============================] - 37s 75ms/step - loss: 2.0642 - accuracy: 0.5333\n",
            "Epoch 44/100\n",
            "500/500 [==============================] - 38s 75ms/step - loss: 2.0328 - accuracy: 0.5396\n",
            "Epoch 45/100\n",
            "500/500 [==============================] - 37s 75ms/step - loss: 2.0065 - accuracy: 0.5443\n",
            "Epoch 46/100\n",
            "500/500 [==============================] - 38s 76ms/step - loss: 1.9796 - accuracy: 0.5485\n",
            "Epoch 47/100\n",
            "500/500 [==============================] - 38s 75ms/step - loss: 1.9494 - accuracy: 0.5561\n",
            "Epoch 48/100\n",
            "500/500 [==============================] - 37s 75ms/step - loss: 1.9253 - accuracy: 0.5611\n",
            "Epoch 49/100\n",
            "500/500 [==============================] - 38s 75ms/step - loss: 1.9009 - accuracy: 0.5665\n",
            "Epoch 50/100\n",
            "500/500 [==============================] - 38s 75ms/step - loss: 1.8748 - accuracy: 0.5714\n",
            "Epoch 51/100\n",
            "500/500 [==============================] - 38s 75ms/step - loss: 1.8524 - accuracy: 0.5758\n",
            "Epoch 52/100\n",
            "500/500 [==============================] - 38s 75ms/step - loss: 1.8271 - accuracy: 0.5818\n",
            "Epoch 53/100\n",
            "500/500 [==============================] - 37s 74ms/step - loss: 1.8054 - accuracy: 0.5862\n",
            "Epoch 54/100\n",
            "500/500 [==============================] - 37s 75ms/step - loss: 1.7847 - accuracy: 0.5904\n",
            "Epoch 55/100\n",
            "500/500 [==============================] - 38s 75ms/step - loss: 1.7630 - accuracy: 0.5949\n",
            "Epoch 56/100\n",
            "500/500 [==============================] - 37s 75ms/step - loss: 1.7426 - accuracy: 0.5993\n",
            "Epoch 57/100\n",
            "500/500 [==============================] - 38s 75ms/step - loss: 1.7220 - accuracy: 0.6040\n",
            "Epoch 58/100\n",
            "500/500 [==============================] - 38s 75ms/step - loss: 1.7040 - accuracy: 0.6076\n",
            "Epoch 59/100\n",
            "500/500 [==============================] - 38s 75ms/step - loss: 1.6859 - accuracy: 0.6110\n",
            "Epoch 60/100\n",
            "500/500 [==============================] - 37s 75ms/step - loss: 1.6663 - accuracy: 0.6169\n",
            "Epoch 61/100\n",
            "500/500 [==============================] - 37s 74ms/step - loss: 1.6529 - accuracy: 0.6187\n",
            "Epoch 62/100\n",
            "500/500 [==============================] - 37s 75ms/step - loss: 1.6307 - accuracy: 0.6241\n",
            "Epoch 63/100\n",
            "500/500 [==============================] - 38s 75ms/step - loss: 1.6159 - accuracy: 0.6263\n",
            "Epoch 64/100\n",
            "500/500 [==============================] - 37s 74ms/step - loss: 1.5992 - accuracy: 0.6298\n",
            "Epoch 65/100\n",
            "500/500 [==============================] - 38s 75ms/step - loss: 1.5870 - accuracy: 0.6320\n",
            "Epoch 66/100\n",
            "500/500 [==============================] - 37s 74ms/step - loss: 1.5756 - accuracy: 0.6338\n",
            "Epoch 67/100\n",
            "500/500 [==============================] - 37s 75ms/step - loss: 1.5567 - accuracy: 0.6393\n",
            "Epoch 68/100\n",
            "500/500 [==============================] - 37s 75ms/step - loss: 1.5369 - accuracy: 0.6441\n",
            "Epoch 69/100\n",
            "500/500 [==============================] - 37s 75ms/step - loss: 1.5204 - accuracy: 0.6473\n",
            "Epoch 70/100\n",
            "500/500 [==============================] - 37s 75ms/step - loss: 1.5128 - accuracy: 0.6489\n",
            "Epoch 71/100\n",
            "500/500 [==============================] - 37s 75ms/step - loss: 1.5012 - accuracy: 0.6505\n",
            "Epoch 72/100\n",
            "500/500 [==============================] - 37s 75ms/step - loss: 1.4895 - accuracy: 0.6535\n",
            "Epoch 73/100\n",
            "500/500 [==============================] - 38s 75ms/step - loss: 1.4751 - accuracy: 0.6567\n",
            "Epoch 74/100\n",
            "500/500 [==============================] - 37s 75ms/step - loss: 1.4595 - accuracy: 0.6596\n",
            "Epoch 75/100\n",
            "500/500 [==============================] - 37s 75ms/step - loss: 1.4493 - accuracy: 0.6617\n",
            "Epoch 76/100\n",
            "500/500 [==============================] - 37s 75ms/step - loss: 1.4358 - accuracy: 0.6650\n",
            "Epoch 77/100\n",
            "500/500 [==============================] - 37s 75ms/step - loss: 1.4286 - accuracy: 0.6663\n",
            "Epoch 78/100\n",
            "500/500 [==============================] - 38s 75ms/step - loss: 1.4142 - accuracy: 0.6695\n",
            "Epoch 79/100\n",
            "500/500 [==============================] - 37s 74ms/step - loss: 1.4078 - accuracy: 0.6708\n",
            "Epoch 80/100\n",
            "500/500 [==============================] - 38s 76ms/step - loss: 1.3945 - accuracy: 0.6729\n",
            "Epoch 81/100\n",
            "500/500 [==============================] - 38s 75ms/step - loss: 1.3865 - accuracy: 0.6754\n",
            "Epoch 82/100\n",
            "500/500 [==============================] - 38s 75ms/step - loss: 1.3763 - accuracy: 0.6775\n",
            "Epoch 83/100\n",
            "500/500 [==============================] - 37s 75ms/step - loss: 1.3688 - accuracy: 0.6796\n",
            "Epoch 84/100\n",
            "500/500 [==============================] - 37s 75ms/step - loss: 1.3536 - accuracy: 0.6816\n",
            "Epoch 85/100\n",
            "500/500 [==============================] - 37s 75ms/step - loss: 1.3464 - accuracy: 0.6844\n",
            "Epoch 86/100\n",
            "500/500 [==============================] - 38s 75ms/step - loss: 1.3379 - accuracy: 0.6860\n",
            "Epoch 87/100\n",
            "500/500 [==============================] - 37s 75ms/step - loss: 1.3319 - accuracy: 0.6865\n",
            "Epoch 88/100\n",
            "500/500 [==============================] - 38s 76ms/step - loss: 1.3237 - accuracy: 0.6887\n",
            "Epoch 89/100\n",
            "500/500 [==============================] - 38s 75ms/step - loss: 1.3135 - accuracy: 0.6915\n",
            "Epoch 90/100\n",
            "500/500 [==============================] - 37s 75ms/step - loss: 1.2968 - accuracy: 0.6959\n",
            "Epoch 91/100\n",
            "500/500 [==============================] - 38s 75ms/step - loss: 1.2964 - accuracy: 0.6941\n",
            "Epoch 92/100\n",
            "500/500 [==============================] - 37s 75ms/step - loss: 1.2918 - accuracy: 0.6960\n",
            "Epoch 93/100\n",
            "500/500 [==============================] - 38s 75ms/step - loss: 1.2808 - accuracy: 0.6985\n",
            "Epoch 94/100\n",
            "500/500 [==============================] - 37s 75ms/step - loss: 1.2700 - accuracy: 0.7004\n",
            "Epoch 95/100\n",
            "500/500 [==============================] - 37s 75ms/step - loss: 1.2649 - accuracy: 0.7021\n",
            "Epoch 96/100\n",
            "500/500 [==============================] - 38s 76ms/step - loss: 1.2589 - accuracy: 0.7031\n",
            "Epoch 97/100\n",
            "500/500 [==============================] - 37s 75ms/step - loss: 1.2584 - accuracy: 0.7024\n",
            "Epoch 98/100\n",
            "500/500 [==============================] - 37s 75ms/step - loss: 1.2479 - accuracy: 0.7060\n",
            "Epoch 99/100\n",
            "500/500 [==============================] - 38s 75ms/step - loss: 1.2405 - accuracy: 0.7072\n",
            "Epoch 100/100\n",
            "500/500 [==============================] - 37s 75ms/step - loss: 1.2328 - accuracy: 0.7093\n"
          ]
        }
      ]
    },
    {
      "cell_type": "code",
      "execution_count": 27,
      "metadata": {
        "id": "1fXTEO3GJ282",
        "tags": [],
        "colab": {
          "base_uri": "https://localhost:8080/",
          "height": 887
        },
        "outputId": "898136e5-1cbf-4ff3-c605-cb96b5a6549e"
      },
      "outputs": [
        {
          "output_type": "display_data",
          "data": {
            "text/plain": [
              "<Figure size 640x480 with 1 Axes>"
            ],
            "image/png": "[encoded data removed]"
          },
          "metadata": {}
        },
        {
          "output_type": "display_data",
          "data": {
            "text/plain": [
              "<Figure size 640x480 with 1 Axes>"
            ],
            "image/png": "[encoded data removed]"
          },
          "metadata": {}
        }
      ],
      "source": [
        "acc = history.history['accuracy']\n",
        "loss = history.history['loss']\n",
        "\n",
        "epochs = range(len(acc))\n",
        "\n",
        "plt.plot(epochs, acc, 'b', label='Training accuracy')\n",
        "plt.title('Training accuracy')\n",
        "\n",
        "plt.figure()\n",
        "\n",
        "plt.plot(epochs, loss, 'b', label='Training Loss')\n",
        "plt.title('Training loss')\n",
        "plt.legend()\n",
        "\n",
        "plt.show()"
      ]
    },
    {
      "cell_type": "code",
      "execution_count": 30,
      "metadata": {
        "id": "6Vc6PHgxa6Hm",
        "tags": [],
        "colab": {
          "base_uri": "https://localhost:8080/"
        },
        "outputId": "934ec57b-e9e3-4757-e4fa-59b39be3c05e"
      },
      "outputs": [
        {
          "output_type": "stream",
          "name": "stdout",
          "text": [
            "1/1 [==============================] - 0s 27ms/step\n",
            "1/1 [==============================] - 0s 25ms/step\n",
            "1/1 [==============================] - 0s 25ms/step\n",
            "1/1 [==============================] - 0s 26ms/step\n",
            "1/1 [==============================] - 0s 26ms/step\n",
            "1/1 [==============================] - 0s 26ms/step\n",
            "1/1 [==============================] - 0s 26ms/step\n",
            "1/1 [==============================] - 0s 26ms/step\n",
            "1/1 [==============================] - 0s 26ms/step\n",
            "1/1 [==============================] - 0s 26ms/step\n",
            "1/1 [==============================] - 0s 25ms/step\n",
            "1/1 [==============================] - 0s 26ms/step\n",
            "1/1 [==============================] - 0s 26ms/step\n",
            "1/1 [==============================] - 0s 26ms/step\n",
            "1/1 [==============================] - 0s 27ms/step\n",
            "1/1 [==============================] - 0s 26ms/step\n",
            "1/1 [==============================] - 0s 26ms/step\n",
            "1/1 [==============================] - 0s 27ms/step\n",
            "1/1 [==============================] - 0s 25ms/step\n",
            "1/1 [==============================] - 0s 26ms/step\n",
            "1/1 [==============================] - 0s 28ms/step\n",
            "1/1 [==============================] - 0s 29ms/step\n",
            "1/1 [==============================] - 0s 27ms/step\n",
            "1/1 [==============================] - 0s 27ms/step\n",
            "1/1 [==============================] - 0s 26ms/step\n",
            "1/1 [==============================] - 0s 26ms/step\n",
            "1/1 [==============================] - 0s 25ms/step\n",
            "1/1 [==============================] - 0s 25ms/step\n",
            "1/1 [==============================] - 0s 25ms/step\n",
            "1/1 [==============================] - 0s 26ms/step\n",
            "1/1 [==============================] - 0s 25ms/step\n",
            "1/1 [==============================] - 0s 26ms/step\n",
            "1/1 [==============================] - 0s 26ms/step\n",
            "1/1 [==============================] - 0s 27ms/step\n",
            "1/1 [==============================] - 0s 27ms/step\n",
            "1/1 [==============================] - 0s 25ms/step\n",
            "1/1 [==============================] - 0s 26ms/step\n",
            "1/1 [==============================] - 0s 27ms/step\n",
            "1/1 [==============================] - 0s 27ms/step\n",
            "1/1 [==============================] - 0s 26ms/step\n",
            "1/1 [==============================] - 0s 25ms/step\n",
            "1/1 [==============================] - 0s 25ms/step\n",
            "1/1 [==============================] - 0s 26ms/step\n",
            "1/1 [==============================] - 0s 25ms/step\n",
            "1/1 [==============================] - 0s 25ms/step\n",
            "1/1 [==============================] - 0s 26ms/step\n",
            "1/1 [==============================] - 0s 26ms/step\n",
            "1/1 [==============================] - 0s 26ms/step\n",
            "1/1 [==============================] - 0s 28ms/step\n",
            "1/1 [==============================] - 0s 27ms/step\n",
            "1/1 [==============================] - 0s 26ms/step\n",
            "1/1 [==============================] - 0s 25ms/step\n",
            "1/1 [==============================] - 0s 27ms/step\n",
            "1/1 [==============================] - 0s 27ms/step\n",
            "1/1 [==============================] - 0s 25ms/step\n",
            "1/1 [==============================] - 0s 25ms/step\n",
            "1/1 [==============================] - 0s 25ms/step\n",
            "1/1 [==============================] - 0s 26ms/step\n",
            "1/1 [==============================] - 0s 27ms/step\n",
            "1/1 [==============================] - 0s 26ms/step\n",
            "1/1 [==============================] - 0s 27ms/step\n",
            "1/1 [==============================] - 0s 26ms/step\n",
            "1/1 [==============================] - 0s 25ms/step\n",
            "1/1 [==============================] - 0s 25ms/step\n",
            "1/1 [==============================] - 0s 25ms/step\n",
            "1/1 [==============================] - 0s 25ms/step\n",
            "1/1 [==============================] - 0s 26ms/step\n",
            "1/1 [==============================] - 0s 25ms/step\n",
            "1/1 [==============================] - 0s 26ms/step\n",
            "1/1 [==============================] - 0s 25ms/step\n",
            "1/1 [==============================] - 0s 26ms/step\n",
            "1/1 [==============================] - 0s 27ms/step\n",
            "1/1 [==============================] - 0s 26ms/step\n",
            "1/1 [==============================] - 0s 26ms/step\n",
            "1/1 [==============================] - 0s 25ms/step\n",
            "1/1 [==============================] - 0s 27ms/step\n",
            "1/1 [==============================] - 0s 26ms/step\n",
            "1/1 [==============================] - 0s 26ms/step\n",
            "1/1 [==============================] - 0s 26ms/step\n",
            "1/1 [==============================] - 0s 26ms/step\n",
            "1/1 [==============================] - 0s 26ms/step\n",
            "1/1 [==============================] - 0s 25ms/step\n",
            "1/1 [==============================] - 0s 24ms/step\n",
            "1/1 [==============================] - 0s 24ms/step\n",
            "1/1 [==============================] - 0s 26ms/step\n",
            "1/1 [==============================] - 0s 27ms/step\n",
            "1/1 [==============================] - 0s 28ms/step\n",
            "1/1 [==============================] - 0s 29ms/step\n",
            "1/1 [==============================] - 0s 29ms/step\n",
            "1/1 [==============================] - 0s 28ms/step\n",
            "1/1 [==============================] - 0s 27ms/step\n",
            "1/1 [==============================] - 0s 27ms/step\n",
            "1/1 [==============================] - 0s 27ms/step\n",
            "1/1 [==============================] - 0s 28ms/step\n",
            "1/1 [==============================] - 0s 27ms/step\n",
            "1/1 [==============================] - 0s 28ms/step\n",
            "1/1 [==============================] - 0s 27ms/step\n",
            "1/1 [==============================] - 0s 27ms/step\n",
            "1/1 [==============================] - 0s 28ms/step\n",
            "1/1 [==============================] - 0s 27ms/step\n",
            "I am dead sir that is it not to me if i go confess to her poor suit and lead me to me ' i find lest i do do't awhile to him good cunning for she did due a velvet is so very very she i hope now now she now unto a virtues you are good not good amends i have but good not a daughter to the men be two and a friend and a flower to night herself the point to hell to bed whose tongue their dreams to do't but it hath too much matter mercy then need\n"
          ]
        }
      ],
      "source": [
        "seed_text = \"I am dead\"\n",
        "next_words = 100\n",
        "\n",
        "for _ in range(next_words):\n",
        "    token_list = tokenizer.texts_to_sequences([seed_text])[0]\n",
        "    token_list = pad_sequences([token_list], maxlen=max_sequence_len-1, padding='pre')\n",
        "    predicted = model.predict(token_list)\n",
        "    predicted = np.argmax(predicted, axis=-1).item()\n",
        "    output_word = tokenizer.index_word[predicted]\n",
        "    seed_text += \" \" + output_word\n",
        "\n",
        "print(seed_text)"
      ]
    },
    {
      "cell_type": "code",
      "execution_count": 32,
      "metadata": {
        "id": "9QRG73l6qE-c",
        "tags": [],
        "colab": {
          "base_uri": "https://localhost:8080/",
          "height": 17
        },
        "outputId": "92005a02-614a-4768-8ebe-85434c2605b7"
      },
      "outputs": [
        {
          "output_type": "display_data",
          "data": {
            "text/plain": [
              "<IPython.core.display.Javascript object>"
            ],
            "application/javascript": [
              "\n",
              "    async function download(id, filename, size) {\n",
              "      if (!google.colab.kernel.accessAllowed) {\n",
              "        return;\n",
              "      }\n",
              "      const div = document.createElement('div');\n",
              "      const label = document.createElement('label');\n",
              "      label.textContent = `Downloading \"${filename}\": `;\n",
              "      div.appendChild(label);\n",
              "      const progress = document.createElement('progress');\n",
              "      progress.max = size;\n",
              "      div.appendChild(progress);\n",
              "      document.body.appendChild(div);\n",
              "\n",
              "      const buffers = [];\n",
              "      let downloaded = 0;\n",
              "\n",
              "      const channel = await google.colab.kernel.comms.open(id);\n",
              "      // Send a message to notify the kernel that we're ready.\n",
              "      channel.send({})\n",
              "\n",
              "      for await (const message of channel.messages) {\n",
              "        // Send a message to notify the kernel that we're ready.\n",
              "        channel.send({})\n",
              "        if (message.buffers) {\n",
              "          for (const buffer of message.buffers) {\n",
              "            buffers.push(buffer);\n",
              "            downloaded += buffer.byteLength;\n",
              "            progress.value = downloaded;\n",
              "          }\n",
              "        }\n",
              "      }\n",
              "      const blob = new Blob(buffers, {type: 'application/binary'});\n",
              "      const a = document.createElement('a');\n",
              "      a.href = window.URL.createObjectURL(blob);\n",
              "      a.download = filename;\n",
              "      div.appendChild(a);\n",
              "      a.click();\n",
              "      div.remove();\n",
              "    }\n",
              "  "
            ]
          },
          "metadata": {}
        },
        {
          "output_type": "display_data",
          "data": {
            "text/plain": [
              "<IPython.core.display.Javascript object>"
            ],
            "application/javascript": [
              "download(\"download_aa1ec87e-4cec-4823-a2a4-e5e6222108ab\", \"model_v1.keras\", 57133044)"
            ]
          },
          "metadata": {}
        }
      ],
      "source": [
        "model.save('model_v1.keras')\n",
        "\n",
        "from google.colab import files\n",
        "files.download('model_v1.keras')"
      ]
    }
  ],
  "metadata": {
    "accelerator": "TPU",
    "colab": {
      "provenance": [],
      "machine_shape": "hm",
      "gpuType": "V28"
    },
    "dlai_version": "1.2.0",
    "jupytext": {
      "main_language": "python"
    },
    "kernelspec": {
      "display_name": "Python 3",
      "name": "python3"
    },
    "language_info": {
      "codemirror_mode": {
        "name": "ipython",
        "version": 3
      },
      "file_extension": ".py",
      "mimetype": "text/x-python",
      "name": "python",
      "nbconvert_exporter": "python",
      "pygments_lexer": "ipython3",
      "version": "3.9.13"
    }
  },
  "nbformat": 4,
  "nbformat_minor": 0
}